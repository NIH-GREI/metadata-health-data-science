{
 "cells": [
  {
   "cell_type": "markdown",
   "id": "5b9935e2-aeb8-4b80-a98e-95cf624286d4",
   "metadata": {},
   "source": [
    "# Comparing the metadata record of repositories to the corresponding record in DataCite"
   ]
  },
  {
   "cell_type": "markdown",
   "id": "b19f4e17-0d16-497b-a9cc-26aaf019ff57",
   "metadata": {},
   "source": [
    "## Import"
   ]
  },
  {
   "cell_type": "code",
   "execution_count": 1,
   "id": "751fa0c3-b049-41d2-b2d0-3b655a93572b",
   "metadata": {
    "tags": []
   },
   "outputs": [],
   "source": [
    "import json\n",
    "import os\n",
    "import time\n",
    "from datetime import datetime\n",
    "\n",
    "import matplotlib.pyplot as plt\n",
    "import numpy as np\n",
    "import pandas as pd\n",
    "import requests\n",
    "import seaborn as sns"
   ]
  },
  {
   "cell_type": "markdown",
   "id": "c9709bd8-c8e7-46fe-9f9a-56ef5c33e3ff",
   "metadata": {},
   "source": [
    "## Get record from Figshare"
   ]
  },
  {
   "cell_type": "code",
   "execution_count": 2,
   "id": "eac55cde-5e76-483d-849e-7723aa39aa42",
   "metadata": {
    "tags": []
   },
   "outputs": [],
   "source": [
    "# token\n",
    "figshare_access_token = os.getenv(\"FIGSHARE_ACCESS_TOKEN\")"
   ]
  },
  {
   "cell_type": "code",
   "execution_count": 6,
   "id": "07c4bd31-79c2-4aa1-af92-e2c99db468ba",
   "metadata": {
    "tags": []
   },
   "outputs": [],
   "source": [
    "# Inspired from the example available here https://help.figshare.com/article/how-to-use-the-figshare-api#search-ids\n",
    "# get info of all the posters (unlike Zenodo, this doesn't return all the metadata for each poster\n",
    "# so we do that only to get all the ids of the posters)\n",
    "BASE_URL = \"https://api.figshare.com/v2\"\n",
    "results = []\n",
    "\n",
    "date_after = \"2024-11-01\"\n",
    "date_before = \"2024-12-31\"\n",
    "\n",
    "search_logic = (\n",
    "    \":item_type:dataset AND \"\n",
    "    + \":posted_after:\"\n",
    "    + date_after\n",
    "    + \" AND :posted_before:\"\n",
    "    + date_before\n",
    ")\n",
    "query = '{\"search_for\": \"' + search_logic + '\"}'\n",
    "y = json.loads(query)\n",
    "\n",
    "for j in range(1, 11):\n",
    "    r = json.loads(\n",
    "        requests.post(\n",
    "            BASE_URL + \"/articles/search?page_size=1000&page={}\".format(j), params=y\n",
    "        ).content\n",
    "    )\n",
    "    if r:\n",
    "        results.extend(r)\n",
    "    else:\n",
    "        break"
   ]
  },
  {
   "cell_type": "code",
   "execution_count": null,
   "id": "1e473faa-0803-44d2-8dff-3e517ef29d6f",
   "metadata": {
    "tags": []
   },
   "outputs": [],
   "source": [
    "# use figshare ids to get full metadata of each poster\n",
    "dict_results = {}\n",
    "count = 0\n",
    "for result in results:\n",
    "    if isinstance(result, dict):\n",
    "        figshare_id = result[\"id\"]\n",
    "        api_call_headers = {\"Authorization\": \"token \" + str(figshare_access_token)}\n",
    "        r = requests.get(\n",
    "            BASE_URL + \"/articles/\" + str(figshare_id), headers=api_call_headers\n",
    "        )\n",
    "        metadata = json.loads(r.text)\n",
    "        dict_results[count] = metadata\n",
    "        count += 1\n",
    "\n",
    "with open(\"outputs/figshare.json\", \"w\", encoding=\"utf-8\") as f:\n",
    "    json.dump(dict_results, f, ensure_ascii=False, indent=4)"
   ]
  },
  {
   "cell_type": "markdown",
   "id": "a4b8acf8-124a-47d6-8f24-f51cefc01960",
   "metadata": {},
   "source": [
    "## Get corresponding record from Datacite"
   ]
  },
  {
   "cell_type": "code",
   "execution_count": null,
   "id": "c4eb7ee9-83c7-4f14-8746-cbbbc4bb98e0",
   "metadata": {},
   "outputs": [],
   "source": []
  }
 ],
 "metadata": {
  "kernelspec": {
   "display_name": "Python 3 (ipykernel)",
   "language": "python",
   "name": "python3"
  },
  "language_info": {
   "codemirror_mode": {
    "name": "ipython",
    "version": 3
   },
   "file_extension": ".py",
   "mimetype": "text/x-python",
   "name": "python",
   "nbconvert_exporter": "python",
   "pygments_lexer": "ipython3",
   "version": "3.11.4"
  }
 },
 "nbformat": 4,
 "nbformat_minor": 5
}
